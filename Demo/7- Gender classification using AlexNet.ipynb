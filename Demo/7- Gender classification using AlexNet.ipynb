{
 "cells": [
  {
   "cell_type": "markdown",
   "metadata": {},
   "source": [
    "## AlexNet \n",
    "\n",
    "This demo provides a sample script to use AlexNet module of NiftyTorch. \n",
    "\n",
    "## Training "
   ]
  },
  {
   "cell_type": "code",
   "execution_count": 1,
   "metadata": {},
   "outputs": [],
   "source": [
    "import torch\n",
    "from Models.AlexNet2 import train_alexnet\n",
    "from torchvision import transforms\n",
    "import torch.optim as optim"
   ]
  },
  {
   "cell_type": "code",
   "execution_count": 8,
   "metadata": {},
   "outputs": [],
   "source": [
    "data_transforms = transforms.Compose([transforms.ToTensor()]) \n",
    "data_folder = \"path_to_hcp_data\"\n",
    "data_csv = \"path_to_hcp_data/labels.csv\""
   ]
  },
  {
   "cell_type": "code",
   "execution_count": 3,
   "metadata": {},
   "outputs": [
    {
     "name": "stdout",
     "output_type": "stream",
     "text": [
      "\n",
      "Usage:\n",
      "from Models.3D_AlexNet import train_alexnet\n",
      "trainer = train_alexnet()\n",
      "data_folder = '../data'\n",
      "data_csv = '../data/distribution.csv'\n",
      "trainer.set_params(num_classes = 2,in_channels = 1,data_folder,data_csv,learning_rate = 1e-3,step_size = 5,gamma = 0.01,cuda = 'cuda:0')\n",
      "trainer.train()\n",
      "parameters:\n",
      "num_classes: the number of classes in dataset\n",
      "in_channels: the number of channels in the input image\n",
      "data_folder: the directory where the data is present\n",
      "data_csv: the csv where the data and class map is given\n",
      "learning_rate: the learning rate for gradient update\n",
      "step_size: for reducing the learning rate\n",
      "gamma: reduction ratio in the learning_rate\n",
      "cuda: cuda gpu number\n",
      "batch_size: the number of examples to be used for gradient update\n",
      "\n"
     ]
    }
   ],
   "source": [
    "train = train_alexnet()"
   ]
  },
  {
   "cell_type": "code",
   "execution_count": 4,
   "metadata": {},
   "outputs": [],
   "source": [
    "train.set_params(\n",
    "    num_classes = 2,\n",
    "    in_channels = 1,\n",
    "    data_folder = data_folder,\n",
    "    data_csv = data_csv,\n",
    "    channels = [1,2,4,2,1],\n",
    "    kernel_size = [3,5,5,3,1],\n",
    "    strides = [1,2,2,2,1],\n",
    "    padding = [1,1,1,1,1],\n",
    "    data_transforms = data_transforms,\n",
    "    filename_label = 'Subject',\n",
    "    class_label = 'gender',\n",
    "    learning_rate = 1e-3,\n",
    "    step_size = 10,\n",
    "    gamma = 0.1,\n",
    "    cuda = 'cuda:3',\n",
    "    batch_size = 16,\n",
    "    image_scale = 128,\n",
    "    file_type = ('t1w.nii.gz'),\n",
    "    num_epochs = 10)"
   ]
  },
  {
   "cell_type": "code",
   "execution_count": 5,
   "metadata": {
    "scrolled": false
   },
   "outputs": [
    {
     "name": "stderr",
     "output_type": "stream",
     "text": [
      "  0%|          | 0/10 [00:00<?, ?it/s]"
     ]
    },
    {
     "name": "stdout",
     "output_type": "stream",
     "text": [
      "Epoch 0/9\n",
      "----------\n",
      "train Classification Loss: 1.6184 Acc: 0.7433\n"
     ]
    },
    {
     "name": "stderr",
     "output_type": "stream",
     "text": [
      " 10%|█         | 1/10 [02:53<25:59, 173.30s/it]"
     ]
    },
    {
     "name": "stdout",
     "output_type": "stream",
     "text": [
      "val Classification Loss: 0.5767 Acc: 0.8030\n",
      "Epoch 1/9\n",
      "----------\n",
      "train Classification Loss: 0.4558 Acc: 0.8086\n"
     ]
    },
    {
     "name": "stderr",
     "output_type": "stream",
     "text": [
      " 20%|██        | 2/10 [05:19<21:01, 157.63s/it]"
     ]
    },
    {
     "name": "stdout",
     "output_type": "stream",
     "text": [
      "val Classification Loss: 0.4544 Acc: 0.7980\n",
      "Epoch 2/9\n",
      "----------\n",
      "train Classification Loss: 0.4552 Acc: 0.8056\n"
     ]
    },
    {
     "name": "stderr",
     "output_type": "stream",
     "text": [
      " 30%|███       | 3/10 [07:43<17:37, 151.08s/it]"
     ]
    },
    {
     "name": "stdout",
     "output_type": "stream",
     "text": [
      "val Classification Loss: 0.4543 Acc: 0.7980\n",
      "Epoch 3/9\n",
      "----------\n",
      "train Classification Loss: 0.4542 Acc: 0.8116\n"
     ]
    },
    {
     "name": "stderr",
     "output_type": "stream",
     "text": [
      " 40%|████      | 4/10 [10:06<14:47, 147.91s/it]"
     ]
    },
    {
     "name": "stdout",
     "output_type": "stream",
     "text": [
      "val Classification Loss: 0.4498 Acc: 0.7980\n",
      "Epoch 4/9\n",
      "----------\n",
      "train Classification Loss: 0.4556 Acc: 0.8160\n"
     ]
    },
    {
     "name": "stderr",
     "output_type": "stream",
     "text": [
      " 50%|█████     | 5/10 [12:28<12:08, 145.80s/it]"
     ]
    },
    {
     "name": "stdout",
     "output_type": "stream",
     "text": [
      "val Classification Loss: 0.4497 Acc: 0.8030\n",
      "Epoch 5/9\n",
      "----------\n",
      "train Classification Loss: 0.4560 Acc: 0.8027\n"
     ]
    },
    {
     "name": "stderr",
     "output_type": "stream",
     "text": [
      " 60%|██████    | 6/10 [14:51<09:40, 145.05s/it]"
     ]
    },
    {
     "name": "stdout",
     "output_type": "stream",
     "text": [
      "val Classification Loss: 0.4520 Acc: 0.8030\n",
      "Epoch 6/9\n",
      "----------\n",
      "train Classification Loss: 0.4580 Acc: 0.7997\n"
     ]
    },
    {
     "name": "stderr",
     "output_type": "stream",
     "text": [
      " 70%|███████   | 7/10 [17:16<07:14, 144.88s/it]"
     ]
    },
    {
     "name": "stdout",
     "output_type": "stream",
     "text": [
      "val Classification Loss: 0.4499 Acc: 0.8030\n",
      "Epoch 7/9\n",
      "----------\n",
      "train Classification Loss: 0.4549 Acc: 0.8160\n"
     ]
    },
    {
     "name": "stderr",
     "output_type": "stream",
     "text": [
      " 80%|████████  | 8/10 [19:41<04:49, 144.86s/it]"
     ]
    },
    {
     "name": "stdout",
     "output_type": "stream",
     "text": [
      "val Classification Loss: 0.4515 Acc: 0.8030\n",
      "Epoch 8/9\n",
      "----------\n",
      "train Classification Loss: 0.4539 Acc: 0.8027\n"
     ]
    },
    {
     "name": "stderr",
     "output_type": "stream",
     "text": [
      " 90%|█████████ | 9/10 [22:04<02:24, 144.40s/it]"
     ]
    },
    {
     "name": "stdout",
     "output_type": "stream",
     "text": [
      "val Classification Loss: 0.4508 Acc: 0.7980\n",
      "Epoch 9/9\n",
      "----------\n",
      "train Classification Loss: 0.4553 Acc: 0.8056\n"
     ]
    },
    {
     "name": "stderr",
     "output_type": "stream",
     "text": [
      "100%|██████████| 10/10 [24:30<00:00, 147.03s/it]"
     ]
    },
    {
     "name": "stdout",
     "output_type": "stream",
     "text": [
      "val Classification Loss: 0.4524 Acc: 0.8030\n",
      "Training complete in 24m 30s\n",
      "Best val Acc: 0.802956\n"
     ]
    },
    {
     "name": "stderr",
     "output_type": "stream",
     "text": [
      "\n"
     ]
    },
    {
     "data": {
      "text/plain": [
       "tensor(0.8030, device='cuda:3', dtype=torch.float64)"
      ]
     },
     "execution_count": 5,
     "metadata": {},
     "output_type": "execute_result"
    }
   ],
   "source": [
    "train.train() "
   ]
  },
  {
   "cell_type": "code",
   "execution_count": 7,
   "metadata": {},
   "outputs": [
    {
     "name": "stdout",
     "output_type": "stream",
     "text": [
      "HCP978578 1\n",
      "HCP955465 1\n",
      "HCP992673 1\n",
      "HCP979984 1\n",
      "HCP983773 0\n",
      "HCP965771 0\n",
      "HCP990366 1\n",
      "HCP992774 1\n",
      "HCP987983 1\n",
      "HCP965367 0\n",
      "HCP993675 1\n",
      "HCP996782 1\n",
      "HCP958976 1\n",
      "HCP984472 1\n",
      "HCP966975 0\n",
      "HCP972566 1\n",
      "HCP959574 1\n",
      "HCP994273 0\n",
      "HCP991267 0\n",
      "HCP957974 1\n",
      "test Classification Loss: 0.6092 Acc: 0.8000\n",
      "Testing complete in 0m 4s\n"
     ]
    }
   ],
   "source": [
    "train.predict(data_folder,\n",
    "              data_csv,\n",
    "              data_transforms,\n",
    "              'Subject',\n",
    "              'gender',\n",
    "              128,\n",
    "              1,\n",
    "              4,\n",
    "              torch.nn.CrossEntropyLoss(),\n",
    "              'cuda:3',\n",
    "              ('t1w.nii.gz'), \n",
    "              demographic=[])"
   ]
  }
 ],
 "metadata": {
  "kernelspec": {
   "display_name": "niftyTest",
   "language": "python",
   "name": "niftytest"
  },
  "language_info": {
   "codemirror_mode": {
    "name": "ipython",
    "version": 3
   },
   "file_extension": ".py",
   "mimetype": "text/x-python",
   "name": "python",
   "nbconvert_exporter": "python",
   "pygments_lexer": "ipython3",
   "version": "3.6.10"
  }
 },
 "nbformat": 4,
 "nbformat_minor": 4
}
