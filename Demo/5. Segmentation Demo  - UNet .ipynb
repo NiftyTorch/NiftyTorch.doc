{
 "cells": [
  {
   "cell_type": "markdown",
   "metadata": {},
   "source": [
    "## Segmentation example\n",
    "Here we provide a simple demo to perform Unet segmetnation on FLAIR data to segmentaion Brain Tumors. \n",
    "\n",
    "For this purpose, we used publicaly available MRI data, thanks to [Decathlon 10 Challenge](https://decathlon-10.grand-challenge.org)."
   ]
  },
  {
   "cell_type": "markdown",
   "metadata": {},
   "source": [
    "## File structure\n",
    "For segmentation purpose, NiftyTorch requires below folder/file organization:\n",
    "```\n",
    "StudyName\n",
    "    └───train\n",
    "    │   └───subjectID\n",
    "    │          flair.nii.gz\n",
    "    │          t1w.nii.gz\n",
    "    │          seg.nii.gz\n",
    "    │           ...\n",
    "    └───val\n",
    "    │   └───subjectID\n",
    "    │          flair.nii.gz\n",
    "    │          t1w.nii.gz\n",
    "    │          seg.nii.gz\n",
    "    │           ...\n",
    "    └───test\n",
    "        └───subjectID\n",
    "               flair.nii.gz\n",
    "               t1w.nii.gz\n",
    "                ...\n",
    "```"
   ]
  },
  {
   "cell_type": "markdown",
   "metadata": {},
   "source": [
    "`flair.nii.gz`, `t1w.nii.gz` etc are the inputs of the Unet segmentation and `seg.nii.gz` is the label mask. \n",
    "> note that test folder does not have to contain `seg.nii.gz`. If the labels are provided, the prediction code will also output the loss and accuracy. "
   ]
  },
  {
   "cell_type": "markdown",
   "metadata": {},
   "source": [
    "## Example data\n",
    "An axial mosaic view of the FLAIR data that contains the tumor is shown here:\n",
    "\n",
    "![flair_example](./flair_example_mosaic.png)"
   ]
  },
  {
   "cell_type": "markdown",
   "metadata": {},
   "source": [
    "## Define paths "
   ]
  },
  {
   "cell_type": "code",
   "execution_count": null,
   "metadata": {},
   "outputs": [],
   "source": [
    "import torch\n",
    "from niftytorch.Models.Unet import *\n",
    "\n",
    "data_dir = 'path_to_data'\n",
    "train_path = data_dir+'/train/'\n",
    "val_path = data_dir+'/val/'\n",
    "test_path = data_dir+'/test/'"
   ]
  },
  {
   "cell_type": "markdown",
   "metadata": {},
   "source": [
    "## Training"
   ]
  },
  {
   "cell_type": "code",
   "execution_count": null,
   "metadata": {},
   "outputs": [],
   "source": [
    "trainer = train_unet()\n",
    "\n",
    "trainer.set_params(train_data = train_path, \n",
    "                   val_data = val_path, \n",
    "                   test_data = test_path, \n",
    "                   batch_size = 10, \n",
    "                   in_channels = 1,\n",
    "                   out_channels = 4, num_epochs = 100, \n",
    "                   downsample = 80, cuda = 'cuda:2', filename = ('flair.nii.gz'),\n",
    "                   init_features = 64, model_name = 'UNet_training')\n",
    "\n",
    "trainer.train()"
   ]
  },
  {
   "cell_type": "markdown",
   "metadata": {},
   "source": [
    "Results of the training, including Dice loss error across epocs will be reported. "
   ]
  },
  {
   "cell_type": "markdown",
   "metadata": {},
   "source": [
    "## Testing\n",
    "\n",
    "The training code also saves the generated model in the file path corresponding to training data. This can be loaded as provided in the code below."
   ]
  },
  {
   "cell_type": "code",
   "execution_count": null,
   "metadata": {},
   "outputs": [],
   "source": [
    "model_val = \" \"\n",
    "PATH = 'path_to_data/train/UNet_training_generated_model'\n",
    "\n",
    "if 'UNet_training_generated_model' in  PATH:\n",
    "    model_val = torch.load(PATH)\n",
    "    trainer.predict(model_val)\n",
    "else:\n",
    "    trainer.predict(model_val)\n",
    "    \n",
    "print(\"UNet done\")"
   ]
  },
  {
   "cell_type": "markdown",
   "metadata": {},
   "source": [
    "At this stage a new data called `pred.nii.gz` will be saved in the testing folder with the result of the segmentation. \n",
    "\n",
    "`pred.nii.gz` is a probability map of the tumor, which you can binarize to obtain a mask. \n",
    "\n",
    "Here we overlaid the `pred.nii.gz` on input `flair.nii.gz`:\n",
    "\n",
    "<video controls width=300 src=\"segmentation.mov\" />"
   ]
  },
  {
   "cell_type": "markdown",
   "metadata": {},
   "source": [
    "## Multiclass Multimodality "
   ]
  },
  {
   "attachments": {},
   "cell_type": "markdown",
   "metadata": {},
   "source": [
    "Change the number of out channels, by providing out_channels = 4 for getting a multi channel output. \n",
    "UNet model can be trained by loading data corresponding to multiple modality at the same time by setting the in_channels and filename parameter to 2 and ('flair.nii.gz', 't1w.nii.gz') respectively. \n",
    "\n",
    "In addition to this, in the case of multi-class prediction, so as to handle data imbalance, weights has to be passed to the loss function. Depending upon the number of classes to be predicted in the output the corresponding weights has to provided as an array to the weights argument. \n",
    "\n",
    "If weights are unknown, the user need not pass in the weights array and the internal implementation takes care of the same. \n",
    "    \n",
    "Below is the code sample and output corresponding to multi-class multi-modality segmentation of the model."
   ]
  },
  {
   "cell_type": "code",
   "execution_count": null,
   "metadata": {},
   "outputs": [],
   "source": [
    "trainer.set_params(train_data = train_path, val_data = val_path, test_data = test_path, \n",
    "                   batch_size = 10, in_channels = 2, out_channels = 4, num_epochs = 100, \n",
    "                   downsample = 80, cuda = 'cuda:2', weights = [6130, 887, 480, 101], \n",
    "                   filename = ('t1w.nii.gz', 'flair.nii.gz'), init_features = 64, \n",
    "                   model_name = 'UNet_multimodality_multiclass')"
   ]
  },
  {
   "cell_type": "markdown",
   "metadata": {},
   "source": [
    "![unet_multiclass.png](./unet_multiclass.png)"
   ]
  }
 ],
 "metadata": {
  "kernelspec": {
   "display_name": "Python 3",
   "language": "python",
   "name": "python3"
  },
  "language_info": {
   "codemirror_mode": {
    "name": "ipython",
    "version": 3
   },
   "file_extension": ".py",
   "mimetype": "text/x-python",
   "name": "python",
   "nbconvert_exporter": "python",
   "pygments_lexer": "ipython3",
   "version": "3.7.3"
  }
 },
 "nbformat": 4,
 "nbformat_minor": 2
}
